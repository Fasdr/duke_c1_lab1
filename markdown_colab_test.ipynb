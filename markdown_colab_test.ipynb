{
  "nbformat": 4,
  "nbformat_minor": 0,
  "metadata": {
    "colab": {
      "name": "markdown_colab_test.ipynb",
      "provenance": [],
      "collapsed_sections": [],
      "authorship_tag": "ABX9TyOFK6VAVt3NteAGEBiS71C/",
      "include_colab_link": true
    },
    "kernelspec": {
      "name": "python3",
      "display_name": "Python 3"
    },
    "language_info": {
      "name": "python"
    }
  },
  "cells": [
    {
      "cell_type": "markdown",
      "metadata": {
        "id": "view-in-github",
        "colab_type": "text"
      },
      "source": [
        "<a href=\"https://colab.research.google.com/github/Fasdr/duke_c1_lab1/blob/main/markdown_colab_test.ipynb\" target=\"_parent\"><img src=\"https://colab.research.google.com/assets/colab-badge.svg\" alt=\"Open In Colab\"/></a>"
      ]
    },
    {
      "cell_type": "code",
      "metadata": {
        "colab": {
          "base_uri": "https://localhost:8080/"
        },
        "id": "MTTAyNI4KNku",
        "outputId": "801b10cb-d27e-46e2-872c-0e494c74b7e9"
      },
      "source": [
        "print(\"Hello world!\")"
      ],
      "execution_count": 1,
      "outputs": [
        {
          "output_type": "stream",
          "name": "stdout",
          "text": [
            "Hello world!\n"
          ]
        }
      ]
    },
    {
      "cell_type": "markdown",
      "metadata": {
        "id": "fsgLS36sLBmL"
      },
      "source": [
        "#Random title"
      ]
    },
    {
      "cell_type": "markdown",
      "metadata": {
        "id": "BMza8eQfLQKz"
      },
      "source": [
        "* Add something\n",
        "* More ..."
      ]
    },
    {
      "cell_type": "markdown",
      "metadata": {
        "id": "BV4PJDa-LzSR"
      },
      "source": [
        "> Quote example"
      ]
    },
    {
      "cell_type": "markdown",
      "metadata": {
        "id": "zW3KdRPjMP-r"
      },
      "source": [
        "```\n",
        "git status\n",
        "git add\n",
        "git commit\n",
        "```"
      ]
    },
    {
      "cell_type": "code",
      "metadata": {
        "id": "vLJZzzHMLQkr"
      },
      "source": [
        ""
      ],
      "execution_count": null,
      "outputs": []
    },
    {
      "cell_type": "code",
      "metadata": {
        "id": "7i3x70kDK5BL"
      },
      "source": [
        ""
      ],
      "execution_count": null,
      "outputs": []
    }
  ]
}